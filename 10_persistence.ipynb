{
 "cells": [
  {
   "cell_type": "code",
   "execution_count": 15,
   "metadata": {},
   "outputs": [],
   "source": [
    "from langgraph.graph import StateGraph, START, END\n",
    "from typing import TypedDict\n",
    "from langchain_huggingface import HuggingFaceEndpoint, ChatHuggingFace\n",
    "from dotenv import load_dotenv\n",
    "from langgraph.checkpoint.memory import InMemorySaver"
   ]
  },
  {
   "cell_type": "code",
   "execution_count": 16,
   "metadata": {},
   "outputs": [],
   "source": [
    "load_dotenv()\n",
    "\n",
    "llm = HuggingFaceEndpoint(\n",
    "    repo_id=\"mistralai/Mistral-7B-Instruct-v0.2\", \n",
    "    task=\"conversational\"\n",
    ")\n",
    "model = ChatHuggingFace(llm=llm)"
   ]
  },
  {
   "cell_type": "code",
   "execution_count": 17,
   "metadata": {},
   "outputs": [],
   "source": [
    "class JokeState(TypedDict):\n",
    "\n",
    "    topic: str\n",
    "    joke: str\n",
    "    explanation: str"
   ]
  },
  {
   "cell_type": "code",
   "execution_count": 23,
   "metadata": {},
   "outputs": [],
   "source": [
    "def generate_joke(state: JokeState):\n",
    "\n",
    "    prompt = f'generate a joke on the topic {state[\"topic\"]}'\n",
    "    response = model.invoke(prompt).content\n",
    "\n",
    "    return {'joke': response}"
   ]
  },
  {
   "cell_type": "code",
   "execution_count": 24,
   "metadata": {},
   "outputs": [],
   "source": [
    "def generate_explanation(state: JokeState):\n",
    "\n",
    "    prompt = f'write an explanation for the joke - {state[\"joke\"]}'\n",
    "    response = model.invoke(prompt).content\n",
    "\n",
    "    return {'explanation': response}"
   ]
  },
  {
   "cell_type": "code",
   "execution_count": 25,
   "metadata": {},
   "outputs": [],
   "source": [
    "graph = StateGraph(JokeState)\n",
    "\n",
    "graph.add_node('generate_joke', generate_joke)\n",
    "graph.add_node('generate_explanation', generate_explanation)\n",
    "\n",
    "graph.add_edge(START, 'generate_joke')\n",
    "graph.add_edge('generate_joke', 'generate_explanation')\n",
    "graph.add_edge('generate_explanation', END)\n",
    "\n",
    "checkpointer = InMemorySaver()\n",
    "\n",
    "workflow = graph.compile(checkpointer=checkpointer)"
   ]
  },
  {
   "cell_type": "code",
   "execution_count": 26,
   "metadata": {},
   "outputs": [
    {
     "data": {
      "text/plain": [
       "{'topic': 'pizza',\n",
       " 'joke': \" Why did the tomato turn red when it saw the pizza being made?\\n\\nBecause it saw the sauce!\\n\\nBut seriously, who doesn't love a good pizza joke? Whether it's about the sauce, the toppings, or the infamous pizza face, pizza is always a delicious source of inspiration for a laugh. Just remember, the real joke is in every savory bite!\",\n",
       " 'explanation': ' This joke is a play on words and involves a bit of wordplay and association with common knowledge.\\n\\nTomatoes are naturally green when they are growing on the vine. As they ripen, they turn red. In the joke, the tomato is personified and given the ability to see. When the tomato \"sees\" the pizza being made, it turns red. The punchline is \"because it saw the sauce!\"\\n\\nThe joke relies on the double meaning of \"saw.\" Normally, we think of seeing as something the eyes do. But in this context, \"saw\" can also refer to pizza sauce. The tomato is not seeing the sauce with its eyes, but rather the tomato is being transformed by the sauce - it is being made into a part of the pizza. This is the source of the humor in the joke.\\n\\nThe setup of the joke also relies on the association people have between tomatoes and pizza. Tomatoes are a common topping found on many pizzas, and their presence is essential to the Italian dish. The joke takes advantage of this common association to create a lighthearted and amusing situation.\\n\\nUltimately, the joke is a playful reminder that tomatoes and pizza go hand in hand, and that even a simple tomato can bring a smile to our faces!'}"
      ]
     },
     "execution_count": 26,
     "metadata": {},
     "output_type": "execute_result"
    }
   ],
   "source": [
    "config1 = {\"configurable\": {\"thread_id\": \"1\"}}\n",
    "workflow.invoke({'topic':'pizza'}, config=config1)"
   ]
  },
  {
   "cell_type": "code",
   "execution_count": 27,
   "metadata": {},
   "outputs": [
    {
     "data": {
      "text/plain": [
       "[StateSnapshot(values={'topic': 'pizza', 'joke': \" Why did the tomato turn red when it saw the pizza being made?\\n\\nBecause it saw the sauce!\\n\\nBut seriously, who doesn't love a good pizza joke? Whether it's about the sauce, the toppings, or the infamous pizza face, pizza is always a delicious source of inspiration for a laugh. Just remember, the real joke is in every savory bite!\", 'explanation': ' This joke is a play on words and involves a bit of wordplay and association with common knowledge.\\n\\nTomatoes are naturally green when they are growing on the vine. As they ripen, they turn red. In the joke, the tomato is personified and given the ability to see. When the tomato \"sees\" the pizza being made, it turns red. The punchline is \"because it saw the sauce!\"\\n\\nThe joke relies on the double meaning of \"saw.\" Normally, we think of seeing as something the eyes do. But in this context, \"saw\" can also refer to pizza sauce. The tomato is not seeing the sauce with its eyes, but rather the tomato is being transformed by the sauce - it is being made into a part of the pizza. This is the source of the humor in the joke.\\n\\nThe setup of the joke also relies on the association people have between tomatoes and pizza. Tomatoes are a common topping found on many pizzas, and their presence is essential to the Italian dish. The joke takes advantage of this common association to create a lighthearted and amusing situation.\\n\\nUltimately, the joke is a playful reminder that tomatoes and pizza go hand in hand, and that even a simple tomato can bring a smile to our faces!'}, next=(), config={'configurable': {'thread_id': '1', 'checkpoint_ns': '', 'checkpoint_id': '1f07cf12-3961-69b8-8002-62ddeb9c1b74'}}, metadata={'source': 'loop', 'step': 2, 'parents': {}}, created_at='2025-08-19T11:39:17.448677+00:00', parent_config={'configurable': {'thread_id': '1', 'checkpoint_ns': '', 'checkpoint_id': '1f07cf11-c89b-6620-8001-639fdf4935a5'}}, tasks=(), interrupts=()),\n",
       " StateSnapshot(values={'topic': 'pizza', 'joke': \" Why did the tomato turn red when it saw the pizza being made?\\n\\nBecause it saw the sauce!\\n\\nBut seriously, who doesn't love a good pizza joke? Whether it's about the sauce, the toppings, or the infamous pizza face, pizza is always a delicious source of inspiration for a laugh. Just remember, the real joke is in every savory bite!\"}, next=('generate_explanation',), config={'configurable': {'thread_id': '1', 'checkpoint_ns': '', 'checkpoint_id': '1f07cf11-c89b-6620-8001-639fdf4935a5'}}, metadata={'source': 'loop', 'step': 1, 'parents': {}}, created_at='2025-08-19T11:39:05.623394+00:00', parent_config={'configurable': {'thread_id': '1', 'checkpoint_ns': '', 'checkpoint_id': '1f07cf11-9de9-6b66-8000-d0e4cdc6db1d'}}, tasks=(PregelTask(id='89f8125b-4e95-ebaa-f5ca-098117b4ec74', name='generate_explanation', path=('__pregel_pull', 'generate_explanation'), error=None, interrupts=(), state=None, result={'explanation': ' This joke is a play on words and involves a bit of wordplay and association with common knowledge.\\n\\nTomatoes are naturally green when they are growing on the vine. As they ripen, they turn red. In the joke, the tomato is personified and given the ability to see. When the tomato \"sees\" the pizza being made, it turns red. The punchline is \"because it saw the sauce!\"\\n\\nThe joke relies on the double meaning of \"saw.\" Normally, we think of seeing as something the eyes do. But in this context, \"saw\" can also refer to pizza sauce. The tomato is not seeing the sauce with its eyes, but rather the tomato is being transformed by the sauce - it is being made into a part of the pizza. This is the source of the humor in the joke.\\n\\nThe setup of the joke also relies on the association people have between tomatoes and pizza. Tomatoes are a common topping found on many pizzas, and their presence is essential to the Italian dish. The joke takes advantage of this common association to create a lighthearted and amusing situation.\\n\\nUltimately, the joke is a playful reminder that tomatoes and pizza go hand in hand, and that even a simple tomato can bring a smile to our faces!'}),), interrupts=()),\n",
       " StateSnapshot(values={'topic': 'pizza'}, next=('generate_joke',), config={'configurable': {'thread_id': '1', 'checkpoint_ns': '', 'checkpoint_id': '1f07cf11-9de9-6b66-8000-d0e4cdc6db1d'}}, metadata={'source': 'loop', 'step': 0, 'parents': {}}, created_at='2025-08-19T11:39:01.146706+00:00', parent_config={'configurable': {'thread_id': '1', 'checkpoint_ns': '', 'checkpoint_id': '1f07cf11-9de7-6ac8-bfff-1d0a5b0238cd'}}, tasks=(PregelTask(id='a41f6786-08e9-a7b7-cc1c-abfeec559ff5', name='generate_joke', path=('__pregel_pull', 'generate_joke'), error=None, interrupts=(), state=None, result={'joke': \" Why did the tomato turn red when it saw the pizza being made?\\n\\nBecause it saw the sauce!\\n\\nBut seriously, who doesn't love a good pizza joke? Whether it's about the sauce, the toppings, or the infamous pizza face, pizza is always a delicious source of inspiration for a laugh. Just remember, the real joke is in every savory bite!\"}),), interrupts=()),\n",
       " StateSnapshot(values={}, next=('__start__',), config={'configurable': {'thread_id': '1', 'checkpoint_ns': '', 'checkpoint_id': '1f07cf11-9de7-6ac8-bfff-1d0a5b0238cd'}}, metadata={'source': 'input', 'step': -1, 'parents': {}}, created_at='2025-08-19T11:39:01.145872+00:00', parent_config=None, tasks=(PregelTask(id='5d69b487-d697-02ec-aa4d-f26735d3da01', name='__start__', path=('__pregel_pull', '__start__'), error=None, interrupts=(), state=None, result={'topic': 'pizza'}),), interrupts=())]"
      ]
     },
     "execution_count": 27,
     "metadata": {},
     "output_type": "execute_result"
    }
   ],
   "source": [
    "\n",
    "list(workflow.get_state_history(config1))"
   ]
  },
  {
   "cell_type": "code",
   "execution_count": 28,
   "metadata": {},
   "outputs": [
    {
     "data": {
      "text/plain": [
       "{'topic': 'pasta',\n",
       " 'joke': \" Why don't some pastas ever fight? Because they pasta each other's differences! (I know, I know, it's a cheesy joke!) But seriously, who can resist a good plate of pasta, am I right? Spaghetti or fettuccine, lasagna or ravioli - they're all just so delicious and harmonious in their own ways. So let's put aside our differences and twirl a strand of pasta together in celebration of this fantastic pantry staple! Or maybe that's just my pasta-tive attempt at humor... 😄\",\n",
       " 'explanation': ' This joke plays on the double meaning of the word \"pasta,\" which refers both to the food we enjoy in various shapes and sizes, as well as a way to describe someone or something that is not a problem or an issue. The punchline \"Because they pasta each other\\'s differences!\" cleverly combines these meanings to create a humorous play on words.\\n\\nThe explanation for the joke also emphasizes the universally appreciated nature of pasta. Whether it\\'s spaghetti, fettuccine, lasagna, or ravioli, pasta dishes are known for their delicious and harmonious differences. The joke encourages us to embrace these differences, just as we embrace the various types of pasta on our plates. It\\'s a reminder that, despite our own differences, we can all come together and find common ground, much like how different shapes of pasta harmoniously blend together on a plate.'}"
      ]
     },
     "execution_count": 28,
     "metadata": {},
     "output_type": "execute_result"
    }
   ],
   "source": [
    "config2 = {\"configurable\": {\"thread_id\": \"2\"}}\n",
    "workflow.invoke({'topic':'pasta'}, config=config2)"
   ]
  },
  {
   "cell_type": "code",
   "execution_count": 29,
   "metadata": {},
   "outputs": [
    {
     "data": {
      "text/plain": [
       "StateSnapshot(values={'topic': 'pizza', 'joke': \" Why did the tomato turn red when it saw the pizza being made?\\n\\nBecause it saw the sauce!\\n\\nBut seriously, who doesn't love a good pizza joke? Whether it's about the sauce, the toppings, or the infamous pizza face, pizza is always a delicious source of inspiration for a laugh. Just remember, the real joke is in every savory bite!\", 'explanation': ' This joke is a play on words and involves a bit of wordplay and association with common knowledge.\\n\\nTomatoes are naturally green when they are growing on the vine. As they ripen, they turn red. In the joke, the tomato is personified and given the ability to see. When the tomato \"sees\" the pizza being made, it turns red. The punchline is \"because it saw the sauce!\"\\n\\nThe joke relies on the double meaning of \"saw.\" Normally, we think of seeing as something the eyes do. But in this context, \"saw\" can also refer to pizza sauce. The tomato is not seeing the sauce with its eyes, but rather the tomato is being transformed by the sauce - it is being made into a part of the pizza. This is the source of the humor in the joke.\\n\\nThe setup of the joke also relies on the association people have between tomatoes and pizza. Tomatoes are a common topping found on many pizzas, and their presence is essential to the Italian dish. The joke takes advantage of this common association to create a lighthearted and amusing situation.\\n\\nUltimately, the joke is a playful reminder that tomatoes and pizza go hand in hand, and that even a simple tomato can bring a smile to our faces!'}, next=(), config={'configurable': {'thread_id': '1', 'checkpoint_ns': '', 'checkpoint_id': '1f07cf12-3961-69b8-8002-62ddeb9c1b74'}}, metadata={'source': 'loop', 'step': 2, 'parents': {}}, created_at='2025-08-19T11:39:17.448677+00:00', parent_config={'configurable': {'thread_id': '1', 'checkpoint_ns': '', 'checkpoint_id': '1f07cf11-c89b-6620-8001-639fdf4935a5'}}, tasks=(), interrupts=())"
      ]
     },
     "execution_count": 29,
     "metadata": {},
     "output_type": "execute_result"
    }
   ],
   "source": [
    "workflow.get_state(config1)"
   ]
  },
  {
   "cell_type": "code",
   "execution_count": 30,
   "metadata": {},
   "outputs": [
    {
     "data": {
      "text/plain": [
       "[StateSnapshot(values={'topic': 'pizza', 'joke': \" Why did the tomato turn red when it saw the pizza being made?\\n\\nBecause it saw the sauce!\\n\\nBut seriously, who doesn't love a good pizza joke? Whether it's about the sauce, the toppings, or the infamous pizza face, pizza is always a delicious source of inspiration for a laugh. Just remember, the real joke is in every savory bite!\", 'explanation': ' This joke is a play on words and involves a bit of wordplay and association with common knowledge.\\n\\nTomatoes are naturally green when they are growing on the vine. As they ripen, they turn red. In the joke, the tomato is personified and given the ability to see. When the tomato \"sees\" the pizza being made, it turns red. The punchline is \"because it saw the sauce!\"\\n\\nThe joke relies on the double meaning of \"saw.\" Normally, we think of seeing as something the eyes do. But in this context, \"saw\" can also refer to pizza sauce. The tomato is not seeing the sauce with its eyes, but rather the tomato is being transformed by the sauce - it is being made into a part of the pizza. This is the source of the humor in the joke.\\n\\nThe setup of the joke also relies on the association people have between tomatoes and pizza. Tomatoes are a common topping found on many pizzas, and their presence is essential to the Italian dish. The joke takes advantage of this common association to create a lighthearted and amusing situation.\\n\\nUltimately, the joke is a playful reminder that tomatoes and pizza go hand in hand, and that even a simple tomato can bring a smile to our faces!'}, next=(), config={'configurable': {'thread_id': '1', 'checkpoint_ns': '', 'checkpoint_id': '1f07cf12-3961-69b8-8002-62ddeb9c1b74'}}, metadata={'source': 'loop', 'step': 2, 'parents': {}}, created_at='2025-08-19T11:39:17.448677+00:00', parent_config={'configurable': {'thread_id': '1', 'checkpoint_ns': '', 'checkpoint_id': '1f07cf11-c89b-6620-8001-639fdf4935a5'}}, tasks=(), interrupts=()),\n",
       " StateSnapshot(values={'topic': 'pizza', 'joke': \" Why did the tomato turn red when it saw the pizza being made?\\n\\nBecause it saw the sauce!\\n\\nBut seriously, who doesn't love a good pizza joke? Whether it's about the sauce, the toppings, or the infamous pizza face, pizza is always a delicious source of inspiration for a laugh. Just remember, the real joke is in every savory bite!\"}, next=('generate_explanation',), config={'configurable': {'thread_id': '1', 'checkpoint_ns': '', 'checkpoint_id': '1f07cf11-c89b-6620-8001-639fdf4935a5'}}, metadata={'source': 'loop', 'step': 1, 'parents': {}}, created_at='2025-08-19T11:39:05.623394+00:00', parent_config={'configurable': {'thread_id': '1', 'checkpoint_ns': '', 'checkpoint_id': '1f07cf11-9de9-6b66-8000-d0e4cdc6db1d'}}, tasks=(PregelTask(id='89f8125b-4e95-ebaa-f5ca-098117b4ec74', name='generate_explanation', path=('__pregel_pull', 'generate_explanation'), error=None, interrupts=(), state=None, result={'explanation': ' This joke is a play on words and involves a bit of wordplay and association with common knowledge.\\n\\nTomatoes are naturally green when they are growing on the vine. As they ripen, they turn red. In the joke, the tomato is personified and given the ability to see. When the tomato \"sees\" the pizza being made, it turns red. The punchline is \"because it saw the sauce!\"\\n\\nThe joke relies on the double meaning of \"saw.\" Normally, we think of seeing as something the eyes do. But in this context, \"saw\" can also refer to pizza sauce. The tomato is not seeing the sauce with its eyes, but rather the tomato is being transformed by the sauce - it is being made into a part of the pizza. This is the source of the humor in the joke.\\n\\nThe setup of the joke also relies on the association people have between tomatoes and pizza. Tomatoes are a common topping found on many pizzas, and their presence is essential to the Italian dish. The joke takes advantage of this common association to create a lighthearted and amusing situation.\\n\\nUltimately, the joke is a playful reminder that tomatoes and pizza go hand in hand, and that even a simple tomato can bring a smile to our faces!'}),), interrupts=()),\n",
       " StateSnapshot(values={'topic': 'pizza'}, next=('generate_joke',), config={'configurable': {'thread_id': '1', 'checkpoint_ns': '', 'checkpoint_id': '1f07cf11-9de9-6b66-8000-d0e4cdc6db1d'}}, metadata={'source': 'loop', 'step': 0, 'parents': {}}, created_at='2025-08-19T11:39:01.146706+00:00', parent_config={'configurable': {'thread_id': '1', 'checkpoint_ns': '', 'checkpoint_id': '1f07cf11-9de7-6ac8-bfff-1d0a5b0238cd'}}, tasks=(PregelTask(id='a41f6786-08e9-a7b7-cc1c-abfeec559ff5', name='generate_joke', path=('__pregel_pull', 'generate_joke'), error=None, interrupts=(), state=None, result={'joke': \" Why did the tomato turn red when it saw the pizza being made?\\n\\nBecause it saw the sauce!\\n\\nBut seriously, who doesn't love a good pizza joke? Whether it's about the sauce, the toppings, or the infamous pizza face, pizza is always a delicious source of inspiration for a laugh. Just remember, the real joke is in every savory bite!\"}),), interrupts=()),\n",
       " StateSnapshot(values={}, next=('__start__',), config={'configurable': {'thread_id': '1', 'checkpoint_ns': '', 'checkpoint_id': '1f07cf11-9de7-6ac8-bfff-1d0a5b0238cd'}}, metadata={'source': 'input', 'step': -1, 'parents': {}}, created_at='2025-08-19T11:39:01.145872+00:00', parent_config=None, tasks=(PregelTask(id='5d69b487-d697-02ec-aa4d-f26735d3da01', name='__start__', path=('__pregel_pull', '__start__'), error=None, interrupts=(), state=None, result={'topic': 'pizza'}),), interrupts=())]"
      ]
     },
     "execution_count": 30,
     "metadata": {},
     "output_type": "execute_result"
    }
   ],
   "source": [
    "list(workflow.get_state_history(config1))\n"
   ]
  },
  {
   "cell_type": "markdown",
   "metadata": {},
   "source": [
    "# **Time Travel**"
   ]
  },
  {
   "cell_type": "code",
   "execution_count": 32,
   "metadata": {},
   "outputs": [
    {
     "data": {
      "text/plain": [
       "StateSnapshot(values={}, next=(), config={'configurable': {'thread_id': '1', 'checkpoint_id': '1f06cc6e-7232-6cb1-8000-f71609e6cec5'}}, metadata=None, created_at=None, parent_config=None, tasks=(), interrupts=())"
      ]
     },
     "execution_count": 32,
     "metadata": {},
     "output_type": "execute_result"
    }
   ],
   "source": [
    "workflow.get_state({\"configurable\": {\"thread_id\": \"1\", \"checkpoint_id\": \"1f06cc6e-7232-6cb1-8000-f71609e6cec5\"}})"
   ]
  },
  {
   "cell_type": "markdown",
   "metadata": {},
   "source": [
    "# **Fault Tolerance**"
   ]
  },
  {
   "cell_type": "code",
   "execution_count": 34,
   "metadata": {},
   "outputs": [],
   "source": [
    "from langgraph.graph import StateGraph, END\n",
    "from langgraph.checkpoint.memory import InMemorySaver\n",
    "from typing import TypedDict\n",
    "import time"
   ]
  },
  {
   "cell_type": "code",
   "execution_count": 35,
   "metadata": {},
   "outputs": [],
   "source": [
    "# 1. Define the state\n",
    "class CrashState(TypedDict):\n",
    "    input: str\n",
    "    step1: str\n",
    "    step2: str\n",
    "    step3: str"
   ]
  },
  {
   "cell_type": "code",
   "execution_count": 36,
   "metadata": {},
   "outputs": [],
   "source": [
    "# 2. Define steps\n",
    "def step_1(state: CrashState) -> CrashState:\n",
    "    print(\"✅ Step 1 executed\")\n",
    "    return {\"step1\": \"done\", \"input\": state[\"input\"]}\n",
    "\n",
    "def step_2(state: CrashState) -> CrashState:\n",
    "    print(\"⏳ Step 2 hanging... now manually interrupt from the notebook toolbar (STOP button)\")\n",
    "    time.sleep(1000)  # Simulate long-running hang\n",
    "    return {\"step2\": \"done\"}\n",
    "\n",
    "def step_3(state: CrashState) -> CrashState:\n",
    "    print(\"✅ Step 3 executed\")\n",
    "    return {\"done\": True}    "
   ]
  },
  {
   "cell_type": "code",
   "execution_count": 37,
   "metadata": {},
   "outputs": [],
   "source": [
    "\n",
    "# 3. Build the graph\n",
    "builder = StateGraph(CrashState)\n",
    "builder.add_node(\"step_1\", step_1)\n",
    "builder.add_node(\"step_2\", step_2)\n",
    "builder.add_node(\"step_3\", step_3)\n",
    "\n",
    "builder.set_entry_point(\"step_1\")\n",
    "builder.add_edge(\"step_1\", \"step_2\")\n",
    "builder.add_edge(\"step_2\", \"step_3\")\n",
    "builder.add_edge(\"step_3\", END)\n",
    "\n",
    "checkpointer = InMemorySaver()\n",
    "graph = builder.compile(checkpointer=checkpointer)"
   ]
  },
  {
   "cell_type": "code",
   "execution_count": 38,
   "metadata": {},
   "outputs": [
    {
     "name": "stdout",
     "output_type": "stream",
     "text": [
      "▶️ Running graph: Please manually interrupt during Step 2...\n",
      "✅ Step 1 executed\n",
      "⏳ Step 2 hanging... now manually interrupt from the notebook toolbar (STOP button)\n",
      "❌ Kernel manually interrupted (crash simulated).\n"
     ]
    }
   ],
   "source": [
    "try:\n",
    "    print(\"▶️ Running graph: Please manually interrupt during Step 2...\")\n",
    "    graph.invoke({\"input\": \"start\"}, config={\"configurable\": {\"thread_id\": 'thread-1'}})\n",
    "except KeyboardInterrupt:\n",
    "    print(\"❌ Kernel manually interrupted (crash simulated).\")"
   ]
  },
  {
   "cell_type": "code",
   "execution_count": null,
   "metadata": {},
   "outputs": [],
   "source": [
    "# 6. Re-run to show fault-tolerant resume\n",
    "print(\"\\n🔁 Re-running the graph to demonstrate fault tolerance...\")\n",
    "final_state = graph.invoke(None, config={\"configurable\": {\"thread_id\": 'thread-1'}})\n",
    "print(\"\\n✅ Final State:\", final_state)"
   ]
  },
  {
   "cell_type": "code",
   "execution_count": 41,
   "metadata": {},
   "outputs": [
    {
     "data": {
      "text/plain": [
       "[StateSnapshot(values={'input': 'start', 'step1': 'done'}, next=('step_2',), config={'configurable': {'thread_id': 'thread-1', 'checkpoint_ns': '', 'checkpoint_id': '1f07cfd9-9905-6abe-8001-7498f2de27d7'}}, metadata={'source': 'loop', 'step': 1, 'parents': {}}, created_at='2025-08-19T13:08:29.342991+00:00', parent_config={'configurable': {'thread_id': 'thread-1', 'checkpoint_ns': '', 'checkpoint_id': '1f07cfd9-9903-6ebc-8000-30ce85a13351'}}, tasks=(PregelTask(id='8fc94a59-7552-78e1-ebb8-3eb151e0206b', name='step_2', path=('__pregel_pull', 'step_2'), error=None, interrupts=(), state=None, result=None),), interrupts=()),\n",
       " StateSnapshot(values={'input': 'start'}, next=('step_1',), config={'configurable': {'thread_id': 'thread-1', 'checkpoint_ns': '', 'checkpoint_id': '1f07cfd9-9903-6ebc-8000-30ce85a13351'}}, metadata={'source': 'loop', 'step': 0, 'parents': {}}, created_at='2025-08-19T13:08:29.342272+00:00', parent_config={'configurable': {'thread_id': 'thread-1', 'checkpoint_ns': '', 'checkpoint_id': '1f07cfd9-98fe-60b6-bfff-a1604040ea41'}}, tasks=(PregelTask(id='8bba5993-cc59-3b56-b2b7-277f7170a1b0', name='step_1', path=('__pregel_pull', 'step_1'), error=None, interrupts=(), state=None, result={'step1': 'done', 'input': 'start'}),), interrupts=()),\n",
       " StateSnapshot(values={}, next=('__start__',), config={'configurable': {'thread_id': 'thread-1', 'checkpoint_ns': '', 'checkpoint_id': '1f07cfd9-98fe-60b6-bfff-a1604040ea41'}}, metadata={'source': 'input', 'step': -1, 'parents': {}}, created_at='2025-08-19T13:08:29.339867+00:00', parent_config=None, tasks=(PregelTask(id='5ebb4168-eb08-7509-26ef-5efeeb295db3', name='__start__', path=('__pregel_pull', '__start__'), error=None, interrupts=(), state=None, result={'input': 'start'}),), interrupts=())]"
      ]
     },
     "execution_count": 41,
     "metadata": {},
     "output_type": "execute_result"
    }
   ],
   "source": [
    "list(graph.get_state_history({\"configurable\": {\"thread_id\": 'thread-1'}}))"
   ]
  }
 ],
 "metadata": {
  "kernelspec": {
   "display_name": "venv",
   "language": "python",
   "name": "python3"
  },
  "language_info": {
   "codemirror_mode": {
    "name": "ipython",
    "version": 3
   },
   "file_extension": ".py",
   "mimetype": "text/x-python",
   "name": "python",
   "nbconvert_exporter": "python",
   "pygments_lexer": "ipython3",
   "version": "3.13.6"
  }
 },
 "nbformat": 4,
 "nbformat_minor": 2
}
