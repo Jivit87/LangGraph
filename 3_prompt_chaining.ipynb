{
 "cells": [
  {
   "cell_type": "code",
   "execution_count": 3,
   "metadata": {},
   "outputs": [],
   "source": [
    "from langgraph.graph import StateGraph, END, START\n",
    "from langchain_huggingface import ChatHuggingFace, HuggingFaceEndpoint\n",
    "from dotenv import load_dotenv\n",
    "from typing import TypedDict"
   ]
  },
  {
   "cell_type": "code",
   "execution_count": 4,
   "metadata": {},
   "outputs": [
    {
     "data": {
      "text/plain": [
       "True"
      ]
     },
     "execution_count": 4,
     "metadata": {},
     "output_type": "execute_result"
    }
   ],
   "source": [
    "load_dotenv()"
   ]
  },
  {
   "cell_type": "code",
   "execution_count": 6,
   "metadata": {},
   "outputs": [],
   "source": [
    "llm = HuggingFaceEndpoint(\n",
    "    repo_id=\"mistralai/Mistral-7B-Instruct-v0.2\", \n",
    "    task=\"conversational\"\n",
    ")\n",
    "\n",
    "model = ChatHuggingFace(llm=llm)"
   ]
  },
  {
   "cell_type": "code",
   "execution_count": 8,
   "metadata": {},
   "outputs": [],
   "source": [
    "class BlogState(TypedDict):\n",
    "    title: str\n",
    "    outline: str\n",
    "    content: str"
   ]
  },
  {
   "cell_type": "code",
   "execution_count": 9,
   "metadata": {},
   "outputs": [],
   "source": [
    "def create_outline(state: BlogState) -> BlogState:\n",
    "    # fetch title\n",
    "    title = state[\"title\"]\n",
    "\n",
    "    # call llm gen outline\n",
    "    prompt = f\"Genetate a detailed outline for a blog on the topic - {title}\"\n",
    "    outline = model.invoke(prompt).content\n",
    "\n",
    "    # update state\n",
    "    state[\"outline\"] = outline\n",
    "\n",
    "    return state"
   ]
  },
  {
   "cell_type": "code",
   "execution_count": 10,
   "metadata": {},
   "outputs": [],
   "source": [
    "def create_blog(state: BlogState) -> BlogState:\n",
    "    title = state[\"title\"]\n",
    "    outline = state[\"outline\"]\n",
    "\n",
    "    prompt = f'Write a detailed blog on the title - {title} using the follwing outline \\n {outline}'\n",
    "\n",
    "    content = model.invoke(prompt).content\n",
    "\n",
    "    state[\"content\"] = content\n",
    "\n",
    "    return state"
   ]
  },
  {
   "cell_type": "code",
   "execution_count": 13,
   "metadata": {},
   "outputs": [],
   "source": [
    "graph = StateGraph(BlogState)\n",
    "\n",
    "# nodes\n",
    "graph.add_node('create_outline', create_outline)\n",
    "graph.add_node('create_blog', create_blog)\n",
    "\n",
    "# edges\n",
    "graph.add_edge(START, 'create_outline')\n",
    "graph.add_edge('create_outline', 'create_blog')\n",
    "graph.add_edge('create_blog', END)\n",
    "\n",
    "workflow = graph.compile()"
   ]
  },
  {
   "cell_type": "code",
   "execution_count": 16,
   "metadata": {},
   "outputs": [
    {
     "name": "stdout",
     "output_type": "stream",
     "text": [
      "{'title': 'Rise of AI in India', 'outline': \" Title: The Rise of Artificial Intelligence in India: Transforming Industries and Shaping the Future\\n\\nI. Introduction\\n\\n* Brief overview of the blog topic\\n* Indiana's strong fundamentals for AI development\\n* Importance of AI in today's digital world\\n\\nII. AI Landscape in India\\n\\n* Current state of AI in India\\n* Government initiatives and policies\\n* Education and research: Yale-NUS College's collaboration with IIIT-H and IIT-BHU\\n* Industry interest and investments\\n\\nIII. Indian AI Success Stories\\n\\n* List of Indian AI startups and their achievements\\n* Application of AI in various industries: HCL Technologies, TCS, and Infosys\\n* Role in transforming sectors like healthcare, education, and agriculture\\n\\nIV. Challenges and Opportunities for AI in India\\n\\n* Infrastructure challenges: power and connectivity\\n* Skills development and talent pool\\n* Ethical considerations and regulations\\n* Balancing automation and employment opportunities\\n\\nV. Future Outlook for AI in India\\n\\n* Indian AI market size and growth potential\\n* Role in developing homegrown AI solutions\\n* Government support and collaborations\\n* Potential impact on the economy\\n\\nVI. Conclusion\\n\\n* Recap of India's AI journey and successes\\n* Future potential and opportunities\\n* Encouragement for investors, entrepreneurs, and students\\n\\nVII. References and Additional Readings\\n\\n* List of resources for further information on AI in India\\n* Links to relevant websites, reports, and articles.\", 'content': \" Title: The Rise of Artificial Intelligence in India: Transforming Industries and Shaping the Future\\n\\nI. Introduction\\nIndia, a country known for its rich history and cultural diversity, is also making significant strides in the field of Artificial Intelligence (AI). With a strong foundation in technical education, a growing tech industry, and a large pool of talented tech professionals, India is primed to become a major player in the global AI landscape. In today's digital world, AI has become increasingly important, offering numerous benefits such as improved productivity, enhanced customer experiences, and data-driven insights. In this blog, we will discuss the current state and future potential of AI in India, covering key trends, success stories, challenges, and government initiatives.\\n\\nII. AI Landscape in India\\n\\nIndia's AI landscape is experiencing rapid growth, fueled by a combination of government initiatives, industry interests, and educational collaborations. Here's a closer look at the current state of affairs:\\n\\n* The current state of AI in India: India ranks third globally in the number of AI-related research papers published, indicating a robust ecosystem for AI research and development (R&D). Additionally, the country has a large pool of English-speaking tech talent, which is attractive to international tech companies looking to set up AI operations in India.\\n* Government initiatives and policies: The Indian government has launched several initiatives and policies aimed at promoting AI R&D and applications. For instance, it has set up the National Artificial Intelligence Mission (NAMAI) to drive AI adoption across industries, and the Atmanirbhar Bharat Abhiyan (Self-Reliant India Mission) focuses on developing indigenous AI solutions.\\n* Education and research: Major collaborations between foreign institutions and Indian universities, such as Yale-NUS College's partnership with IIIT-H (International Institute of Information Technology, Hyderabad) and IIT-BHU (Indian Institute of Technology, Banaras Hindu University), demonstrate India's commitment to fostering AI education and research.\\n* Industry interest and investments: Global tech giants like Google, Microsoft, IBM, and Amazon Web Services (AWS) have invested in AI R&D and operations in India. Domestic companies like Tata Consultancy Services (TCS), Infosys, and HCL Technologies are also leveraging AI to transform their businesses and services.\\n\\nIII. Indian AI Success Stories\\nIndia's AI ecosystem is witnessing numerous success stories, with startups and established companies leading the charge. Some notable achievements and applications of AI in various industries include:\\n\\n* List of Indian AI startups: Companies like skChai, Sentia, and InteloLearn are developing AI solutions for industries like finance, healthcare, education, and customer service.\\n* Application of AI in various industries: HCL Technologies has implemented AI in its operations to provide intelligent automation and cognitive services to its clients. TCS has launched AI-powered solutions like TCS Digital Id and TCS Ignio. Infosys has its AI platform, Mana, which offers AI-assisted customer engagement and products like Nia, an AI-powered virtual assistant.\\n* Role in transforming sectors: AI is transforming industries like healthcare (diagnosis, patient monitoring), education (personalized learning, assessment), and agriculture (precision farming, yield optimization).\\n\\nIV. Challenges and Opportunities for AI in India\\nWhile India's AI landscape presents significant opportunities, there are challenges that must be addressed for optimal growth:\\n\\n* Infrastructure challenges: Power and connectivity issues, particularly in rural areas, pose obstacles to widespread AI adoption.\\n* Skills development and talent pool: India will need a larger, more skilled workforce in AI and related fields to drive research, innovation, and business applications.\\n* Ethical considerations and regulations: As AI becomes more prevalent, it is crucial to establish guidelines and regulations regarding data privacy, security, and ethical use of AI.\\n* Balancing automation and employment opportunities: While AI offers numerous benefits, it also raises concerns about job displacement and skill mismatches. Ensuring a balance between automation and employment opportunities will be essential.\\n\\nV. Future Outlook for AI in India\\nThe future looks bright for AI in India, with numerous opportunities for growth and development:\\n\\n* Indian AI market size and growth potential: According to a report by PWC, the Indian AI market is expected to reach $6.8 billion by 2025, with significant growth expected across sectors like healthcare, retail, and manufacturing.\\n* Role in developing homegrown AI solutions: India's tech talent pool can contribute to developing indigenous AI solutions, reducing dependency on foreign solutions and creating self-sufficiency.\\n* Government support and collaborations: The Indian government's initiatives and collaborations can help accelerate AI R&D and applications. For instance, the proposed National Data Governance Framework can provide access to quality data for AI projects.\\n* Potential impact on the economy: AI adoption is expected to contribute to India's economic growth, with increased productivity, efficiency, and competitiveness across various industries.\\n\\nVI. Conclusion\\nIndia's AI journey is just beginning, with numerous success stories and opportunities for growth. The country's strong technical education foundation, government initiatives, and thriving tech industry position India as a major player in the global AI landscape. As India continues to invest in AI R&D and applications, it can expect significant progress in transforming industries and shaping the future.\\n\\nVII. References and Additional Readings\\n\\n* Nasscom Report: Artificial Intelligence in India (<https://www.nasscom.in/research-reports/artificial-intelligence-india-landscape-report>)\\n* PWC Report: Artificial Intelligence in Financial Services: A New Era Dawns (<https://www.pwc.com/gx/en/issues/technology/artificial-intelligence/artificial-intelligence-financial-services.pdf>)\\n* McKinsey Report: India's Artificial Intelligence [Revolution](https://www.mckinsey.com/business-functions/mckinsey-analytics/our-insights/indias-artificial-intelligence-revolution)\\n* YourStory: List of Indian AI Startups (<https://yourstory.com/2021/03/indian-ai-startups>)\\n* Niti Aayog Report: National Strategy for Artificial Intelligence (<https://niti.gov.in/writereaddata/files/document_publation/National_Strategy_for_Artificial_Intelligence_1.pdf>)\"}\n"
     ]
    }
   ],
   "source": [
    "initial_state = {\"title\": \"Rise of AI in India\"}\n",
    "\n",
    "final_state = workflow.invoke(initial_state)\n",
    "\n",
    "print(final_state)"
   ]
  },
  {
   "cell_type": "code",
   "execution_count": 18,
   "metadata": {},
   "outputs": [
    {
     "name": "stdout",
     "output_type": "stream",
     "text": [
      " Title: The Rise of Artificial Intelligence in India: Transforming Industries and Shaping the Future\n",
      "\n",
      "I. Introduction\n",
      "\n",
      "* Brief overview of the blog topic\n",
      "* Indiana's strong fundamentals for AI development\n",
      "* Importance of AI in today's digital world\n",
      "\n",
      "II. AI Landscape in India\n",
      "\n",
      "* Current state of AI in India\n",
      "* Government initiatives and policies\n",
      "* Education and research: Yale-NUS College's collaboration with IIIT-H and IIT-BHU\n",
      "* Industry interest and investments\n",
      "\n",
      "III. Indian AI Success Stories\n",
      "\n",
      "* List of Indian AI startups and their achievements\n",
      "* Application of AI in various industries: HCL Technologies, TCS, and Infosys\n",
      "* Role in transforming sectors like healthcare, education, and agriculture\n",
      "\n",
      "IV. Challenges and Opportunities for AI in India\n",
      "\n",
      "* Infrastructure challenges: power and connectivity\n",
      "* Skills development and talent pool\n",
      "* Ethical considerations and regulations\n",
      "* Balancing automation and employment opportunities\n",
      "\n",
      "V. Future Outlook for AI in India\n",
      "\n",
      "* Indian AI market size and growth potential\n",
      "* Role in developing homegrown AI solutions\n",
      "* Government support and collaborations\n",
      "* Potential impact on the economy\n",
      "\n",
      "VI. Conclusion\n",
      "\n",
      "* Recap of India's AI journey and successes\n",
      "* Future potential and opportunities\n",
      "* Encouragement for investors, entrepreneurs, and students\n",
      "\n",
      "VII. References and Additional Readings\n",
      "\n",
      "* List of resources for further information on AI in India\n",
      "* Links to relevant websites, reports, and articles.\n"
     ]
    }
   ],
   "source": [
    "print(final_state[\"outline\"])"
   ]
  },
  {
   "cell_type": "code",
   "execution_count": 19,
   "metadata": {},
   "outputs": [
    {
     "name": "stdout",
     "output_type": "stream",
     "text": [
      " Title: The Rise of Artificial Intelligence in India: Transforming Industries and Shaping the Future\n",
      "\n",
      "I. Introduction\n",
      "India, a country known for its rich history and cultural diversity, is also making significant strides in the field of Artificial Intelligence (AI). With a strong foundation in technical education, a growing tech industry, and a large pool of talented tech professionals, India is primed to become a major player in the global AI landscape. In today's digital world, AI has become increasingly important, offering numerous benefits such as improved productivity, enhanced customer experiences, and data-driven insights. In this blog, we will discuss the current state and future potential of AI in India, covering key trends, success stories, challenges, and government initiatives.\n",
      "\n",
      "II. AI Landscape in India\n",
      "\n",
      "India's AI landscape is experiencing rapid growth, fueled by a combination of government initiatives, industry interests, and educational collaborations. Here's a closer look at the current state of affairs:\n",
      "\n",
      "* The current state of AI in India: India ranks third globally in the number of AI-related research papers published, indicating a robust ecosystem for AI research and development (R&D). Additionally, the country has a large pool of English-speaking tech talent, which is attractive to international tech companies looking to set up AI operations in India.\n",
      "* Government initiatives and policies: The Indian government has launched several initiatives and policies aimed at promoting AI R&D and applications. For instance, it has set up the National Artificial Intelligence Mission (NAMAI) to drive AI adoption across industries, and the Atmanirbhar Bharat Abhiyan (Self-Reliant India Mission) focuses on developing indigenous AI solutions.\n",
      "* Education and research: Major collaborations between foreign institutions and Indian universities, such as Yale-NUS College's partnership with IIIT-H (International Institute of Information Technology, Hyderabad) and IIT-BHU (Indian Institute of Technology, Banaras Hindu University), demonstrate India's commitment to fostering AI education and research.\n",
      "* Industry interest and investments: Global tech giants like Google, Microsoft, IBM, and Amazon Web Services (AWS) have invested in AI R&D and operations in India. Domestic companies like Tata Consultancy Services (TCS), Infosys, and HCL Technologies are also leveraging AI to transform their businesses and services.\n",
      "\n",
      "III. Indian AI Success Stories\n",
      "India's AI ecosystem is witnessing numerous success stories, with startups and established companies leading the charge. Some notable achievements and applications of AI in various industries include:\n",
      "\n",
      "* List of Indian AI startups: Companies like skChai, Sentia, and InteloLearn are developing AI solutions for industries like finance, healthcare, education, and customer service.\n",
      "* Application of AI in various industries: HCL Technologies has implemented AI in its operations to provide intelligent automation and cognitive services to its clients. TCS has launched AI-powered solutions like TCS Digital Id and TCS Ignio. Infosys has its AI platform, Mana, which offers AI-assisted customer engagement and products like Nia, an AI-powered virtual assistant.\n",
      "* Role in transforming sectors: AI is transforming industries like healthcare (diagnosis, patient monitoring), education (personalized learning, assessment), and agriculture (precision farming, yield optimization).\n",
      "\n",
      "IV. Challenges and Opportunities for AI in India\n",
      "While India's AI landscape presents significant opportunities, there are challenges that must be addressed for optimal growth:\n",
      "\n",
      "* Infrastructure challenges: Power and connectivity issues, particularly in rural areas, pose obstacles to widespread AI adoption.\n",
      "* Skills development and talent pool: India will need a larger, more skilled workforce in AI and related fields to drive research, innovation, and business applications.\n",
      "* Ethical considerations and regulations: As AI becomes more prevalent, it is crucial to establish guidelines and regulations regarding data privacy, security, and ethical use of AI.\n",
      "* Balancing automation and employment opportunities: While AI offers numerous benefits, it also raises concerns about job displacement and skill mismatches. Ensuring a balance between automation and employment opportunities will be essential.\n",
      "\n",
      "V. Future Outlook for AI in India\n",
      "The future looks bright for AI in India, with numerous opportunities for growth and development:\n",
      "\n",
      "* Indian AI market size and growth potential: According to a report by PWC, the Indian AI market is expected to reach $6.8 billion by 2025, with significant growth expected across sectors like healthcare, retail, and manufacturing.\n",
      "* Role in developing homegrown AI solutions: India's tech talent pool can contribute to developing indigenous AI solutions, reducing dependency on foreign solutions and creating self-sufficiency.\n",
      "* Government support and collaborations: The Indian government's initiatives and collaborations can help accelerate AI R&D and applications. For instance, the proposed National Data Governance Framework can provide access to quality data for AI projects.\n",
      "* Potential impact on the economy: AI adoption is expected to contribute to India's economic growth, with increased productivity, efficiency, and competitiveness across various industries.\n",
      "\n",
      "VI. Conclusion\n",
      "India's AI journey is just beginning, with numerous success stories and opportunities for growth. The country's strong technical education foundation, government initiatives, and thriving tech industry position India as a major player in the global AI landscape. As India continues to invest in AI R&D and applications, it can expect significant progress in transforming industries and shaping the future.\n",
      "\n",
      "VII. References and Additional Readings\n",
      "\n",
      "* Nasscom Report: Artificial Intelligence in India (<https://www.nasscom.in/research-reports/artificial-intelligence-india-landscape-report>)\n",
      "* PWC Report: Artificial Intelligence in Financial Services: A New Era Dawns (<https://www.pwc.com/gx/en/issues/technology/artificial-intelligence/artificial-intelligence-financial-services.pdf>)\n",
      "* McKinsey Report: India's Artificial Intelligence [Revolution](https://www.mckinsey.com/business-functions/mckinsey-analytics/our-insights/indias-artificial-intelligence-revolution)\n",
      "* YourStory: List of Indian AI Startups (<https://yourstory.com/2021/03/indian-ai-startups>)\n",
      "* Niti Aayog Report: National Strategy for Artificial Intelligence (<https://niti.gov.in/writereaddata/files/document_publation/National_Strategy_for_Artificial_Intelligence_1.pdf>)\n"
     ]
    }
   ],
   "source": [
    "print(final_state[\"content\"])"
   ]
  }
 ],
 "metadata": {
  "kernelspec": {
   "display_name": "venv",
   "language": "python",
   "name": "python3"
  },
  "language_info": {
   "codemirror_mode": {
    "name": "ipython",
    "version": 3
   },
   "file_extension": ".py",
   "mimetype": "text/x-python",
   "name": "python",
   "nbconvert_exporter": "python",
   "pygments_lexer": "ipython3",
   "version": "3.13.6"
  }
 },
 "nbformat": 4,
 "nbformat_minor": 2
}
