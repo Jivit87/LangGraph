{
 "cells": [
  {
   "cell_type": "code",
   "execution_count": 2,
   "metadata": {},
   "outputs": [],
   "source": [
    "from langgraph.graph import StateGraph, START, END\n",
    "from typing import TypedDict"
   ]
  },
  {
   "cell_type": "code",
   "execution_count": 11,
   "metadata": {},
   "outputs": [],
   "source": [
    "# define state\n",
    "class BMIState(TypedDict):\n",
    "\n",
    "    weight_kg: float\n",
    "    height_m: float\n",
    "    bmi: float\n",
    "    category: str"
   ]
  },
  {
   "cell_type": "code",
   "execution_count": 14,
   "metadata": {},
   "outputs": [],
   "source": [
    "def calculate_bmi(state: BMIState) -> BMIState:\n",
    "\n",
    "    weight = state['weight_kg']\n",
    "    height = state['height_m']\n",
    "\n",
    "    bmi = weight/(height**2)\n",
    "\n",
    "    state['bmi'] = round(bmi, 2)\n",
    "\n",
    "    return state  "
   ]
  },
  {
   "cell_type": "code",
   "execution_count": 16,
   "metadata": {},
   "outputs": [],
   "source": [
    "def label_bmi(state: BMIState) -> BMIState:\n",
    "\n",
    "    bmi = state['bmi']\n",
    "\n",
    "    if bmi < 18.5:\n",
    "        state[\"category\"] = \"Underweight\"\n",
    "    elif 18.5 <= bmi < 25:\n",
    "        state[\"category\"] = \"Normal\"\n",
    "    elif 25 <= bmi < 30:\n",
    "        state[\"category\"] = \"Overweight\"\n",
    "    else:\n",
    "        state[\"category\"] = \"Obese\"\n",
    "\n",
    "    return state"
   ]
  },
  {
   "cell_type": "code",
   "execution_count": 17,
   "metadata": {},
   "outputs": [],
   "source": [
    "# define your graph\n",
    "graph = StateGraph(BMIState)\n",
    "\n",
    "# add nodes to your graph\n",
    "graph.add_node('calculate_bmi', calculate_bmi)\n",
    "graph.add_node('label_bmi', label_bmi)\n",
    "\n",
    "# add edges to your graph\n",
    "graph.add_edge(START, 'calculate_bmi')\n",
    "graph.add_edge('calculate_bmi', 'label_bmi')\n",
    "graph.add_edge('label_bmi', END)\n",
    "\n",
    "\n",
    "# compile the graph\n",
    "workflow = graph.compile()"
   ]
  },
  {
   "cell_type": "code",
   "execution_count": 18,
   "metadata": {},
   "outputs": [
    {
     "name": "stdout",
     "output_type": "stream",
     "text": [
      "{'weight_kg': 80, 'height_m': 1.73, 'bmi': 26.73, 'category': 'Overweight'}\n"
     ]
    }
   ],
   "source": [
    "# execute the graph\n",
    "intial_state = {'weight_kg':80, 'height_m':1.73}\n",
    "\n",
    "final_state = workflow.invoke(intial_state)\n",
    "\n",
    "print(final_state)"
   ]
  }
 ],
 "metadata": {
  "kernelspec": {
   "display_name": "venv",
   "language": "python",
   "name": "python3"
  },
  "language_info": {
   "codemirror_mode": {
    "name": "ipython",
    "version": 3
   },
   "file_extension": ".py",
   "mimetype": "text/x-python",
   "name": "python",
   "nbconvert_exporter": "python",
   "pygments_lexer": "ipython3",
   "version": "3.13.6"
  }
 },
 "nbformat": 4,
 "nbformat_minor": 2
}
